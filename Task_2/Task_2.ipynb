{
  "nbformat": 4,
  "nbformat_minor": 0,
  "metadata": {
    "colab": {
      "provenance": [],
      "authorship_tag": "ABX9TyOATldkLrfgROSZ1+XrSXvq",
      "include_colab_link": true
    },
    "kernelspec": {
      "name": "python3",
      "display_name": "Python 3"
    },
    "language_info": {
      "name": "python"
    }
  },
  "cells": [
    {
      "cell_type": "markdown",
      "metadata": {
        "id": "view-in-github",
        "colab_type": "text"
      },
      "source": [
        "<a href=\"https://colab.research.google.com/github/HerrSorokin/Quantum_Internship/blob/main/Task_2/Task_2.ipynb\" target=\"_parent\"><img src=\"https://colab.research.google.com/assets/colab-badge.svg\" alt=\"Open In Colab\"/></a>"
      ]
    },
    {
      "cell_type": "markdown",
      "source": [
        "### Counting islands\n",
        "\n",
        "You have a matrix MxN that represents a map. There are 2 possible states on the map: 1 - islands, 0 - ocean. Your task is to calculate the number of islands in the most effective way. Please write code in Python 3.\n",
        "\n",
        "    Inputs:\n",
        "    M N\n",
        "    Matrix\n",
        "\n",
        "    Examples:\n",
        "    Input:\n",
        "    3 3\n",
        "    0 1 0\n",
        "    0 0 0\n",
        "    0 1 1\n",
        "    Output: 2\n",
        "\n",
        "    Input:\n",
        "    3 4 \n",
        "    0 0 0 1\n",
        "    0 0 1 0\n",
        "    0 1 0 0\n",
        "    Output: 3\n",
        "\n",
        "    Input:\n",
        "    3 4\n",
        "    0 0 0 1\n",
        "    0 0 1 1\n",
        "    0 1 0 1\n",
        "    Output: 2\n"
      ],
      "metadata": {
        "id": "lgaHeTcgN2FZ"
      }
    },
    {
      "cell_type": "code",
      "source": [
        "#find neighboring cells\n",
        "def neighs(i, j, matrx, r, c):\n",
        "  neig = []\n",
        "  if(j + 1 < c):\n",
        "    neig.append((i, j+1))\n",
        "\n",
        "  if(i + 1 < r):\n",
        "      neig.append((i+1, j))\n",
        "\n",
        "  if(j - 1 >= 0):\n",
        "    neig.append((i, j-1))\n",
        "    \n",
        "  if(i - 1 >= 0):\n",
        "    neig.append((i-1, j))\n",
        "  return neig\n"
      ],
      "metadata": {
        "id": "dSODWRtXP8GW"
      },
      "execution_count": null,
      "outputs": []
    },
    {
      "cell_type": "code",
      "source": [
        "#contenders for the continuation of the island\n",
        "def contenders(i, j, matrx, r, c):\n",
        "    cont = []\n",
        "    for k, t in neighs(i, j, matrx, r, c):\n",
        "      if(matrx[k][t]):\n",
        "        cont.append((k,t))\n",
        "    return cont"
      ],
      "metadata": {
        "id": "ntYnS5rHlHLm"
      },
      "execution_count": null,
      "outputs": []
    },
    {
      "cell_type": "code",
      "source": [
        "def find_islands(M, N, matrix):\n",
        "  islands = []\n",
        "  steps = set()\n",
        "  for i in range(M):\n",
        "    for j in range(N):\n",
        "      if(matrix[i][j]):\n",
        "        island = []\n",
        "        cont = [(i, j)]\n",
        "        for k, t in cont:\n",
        "            if(matrix[k][t]):\n",
        "              island.append((k,t))\n",
        "              matrix[k][t] = 0\n",
        "              cont.extend(list(set(contenders(k, t, matrix, M, N)).difference(set(cont)))) #cont += new_cont - old_cont \n",
        "        islands.append(island)\n",
        "  return islands"
      ],
      "metadata": {
        "id": "aFwcyGWGk5mQ"
      },
      "execution_count": null,
      "outputs": []
    },
    {
      "cell_type": "code",
      "source": [
        "'''\n",
        "r = 3\n",
        "c = 4\n",
        "mt = [[0, 0, 0, 1],\n",
        "     [0, 0, 1, 1],\n",
        "     [0, 1, 0, 1]]\n",
        "'''\n",
        "M = 10\n",
        "N = 10\n",
        "mt = [[1, 0, 1, 0, 0, 0, 1, 1, 1, 1],\n",
        "      [0, 0, 1, 0, 1, 0, 1, 0, 0, 0],\n",
        "      [1, 1, 1, 1, 0, 0, 1, 0, 0, 0],\n",
        "      [1, 0, 0, 1, 0, 1, 0, 0, 0, 0],\n",
        "      [1, 1, 1, 1, 0, 0, 0, 1, 1, 1],\n",
        "      [0, 1, 0, 1, 0, 0, 1, 1, 1, 1],\n",
        "      [0, 0, 0, 0, 0, 1, 1, 1, 0, 0],\n",
        "      [0, 0, 0, 1, 0, 0, 1, 1, 1, 0],\n",
        "      [1, 0, 1, 0, 1, 0, 0, 1, 0, 0],\n",
        "      [1, 1, 1, 1, 0, 0, 0, 1, 1, 1]]\n",
        "\n",
        "print(len(find_islands(M, N, mt)))\n"
      ],
      "metadata": {
        "colab": {
          "base_uri": "https://localhost:8080/"
        },
        "id": "aAZbiYZ2OVQr",
        "outputId": "f9c64628-6897-4c45-82a2-a1802a101b3f"
      },
      "execution_count": null,
      "outputs": [
        {
          "output_type": "stream",
          "name": "stdout",
          "text": [
            "9\n"
          ]
        }
      ]
    }
  ]
}